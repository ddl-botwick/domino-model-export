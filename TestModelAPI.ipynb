{
 "cells": [
  {
   "cell_type": "code",
   "execution_count": 1,
   "metadata": {},
   "outputs": [],
   "source": [
    "import pickle \n",
    "import numpy as np\n",
    "\n",
    "loaded_model = pickle.load(open(\"/mnt/artifacts/results/gb1.pkl\", \"rb\"))\n",
    "\n",
    "def predict(dropperc, mins, consecmonths, income, age):\n",
    "    features=[]\n",
    "    features.append(dropperc)\n",
    "    features.append(mins)\n",
    "    features.append(consecmonths)\n",
    "    features.append(income)\n",
    "    features.append(age)\n",
    "    final = np.reshape(features, (1, -1))\n",
    "    # Call the model's predict_proba() function with the input features\n",
    "    # https://scikit-learn.org/stable/modules/generated/sklearn.ensemble.GradientBoostingClassifier.html#sklearn.ensemble.GradientBoostingClassifier.predict_proba\n",
    "    return list(loaded_model.predict_proba(final)[:,1])\n"
   ]
  },
  {
   "cell_type": "code",
   "execution_count": 3,
   "metadata": {},
   "outputs": [
    {
     "data": {
      "text/plain": [
       "[0.9826239153310292]"
      ]
     },
     "execution_count": 3,
     "metadata": {},
     "output_type": "execute_result"
    }
   ],
   "source": [
    "predict(1000, 900, 50, 50000, 50)"
   ]
  },
  {
   "cell_type": "code",
   "execution_count": null,
   "metadata": {},
   "outputs": [],
   "source": []
  }
 ],
 "metadata": {
  "kernelspec": {
   "display_name": "Python 3",
   "language": "python",
   "name": "python3"
  },
  "language_info": {
   "codemirror_mode": {
    "name": "ipython",
    "version": 3
   },
   "file_extension": ".py",
   "mimetype": "text/x-python",
   "name": "python",
   "nbconvert_exporter": "python",
   "pygments_lexer": "ipython3",
   "version": "3.7.4"
  }
 },
 "nbformat": 4,
 "nbformat_minor": 4
}
