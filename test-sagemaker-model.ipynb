{
 "cells": [
  {
   "cell_type": "markdown",
   "metadata": {},
   "source": [
    "### First, we're going to load up the appropriate libraries"
   ]
  },
  {
   "cell_type": "code",
   "execution_count": 1,
   "metadata": {},
   "outputs": [],
   "source": [
    "import io\n",
    "import boto3\n",
    "import json\n",
    "\n",
    "runtime_client = boto3.client(\"runtime.sagemaker\")"
   ]
  },
  {
   "cell_type": "markdown",
   "metadata": {},
   "source": [
    "### Define the model request details\n",
    "\n",
    "Note that the request format matches how you would typically call a Domino model using either a JSON string with the format {\"data\": {\"feature1\": X, \"feature2\": Y, \"featureN\": Z}} or {\"parameters\": [X, Y, Z]}"
   ]
  },
  {
   "cell_type": "code",
   "execution_count": 2,
   "metadata": {},
   "outputs": [],
   "source": [
    "request = {\n",
    "    \"data\": {\n",
    "        \"dropperc\": 1,\n",
    "        \"mins\": 1,\n",
    "        \"consecmonths\": 1,\n",
    "        \"income\": 10000\n",
    "    }\n",
    "}"
   ]
  },
  {
   "cell_type": "markdown",
   "metadata": {},
   "source": [
    "### Test the request against the SageMaker endpoint"
   ]
  },
  {
   "cell_type": "code",
   "execution_count": 5,
   "metadata": {},
   "outputs": [
    {
     "name": "stdout",
     "output_type": "stream",
     "text": [
      "{'model_time_in_ms': 1, 'release': {'harness_version': '0.1', 'model_version': '5ee26adfcdfc18044c3768b2', 'model_version_number': 2}, 'request_id': '70RBE12M5NSZD8VT', 'result': [2.3214757627915308e-05], 'timing': 0.6690025329589844}\n"
     ]
    }
   ],
   "source": [
    "response = runtime_client.invoke_endpoint(\n",
    "    EndpointName = \"domino-customer-churn\",\n",
    "    ContentType = \"application/json\",\n",
    "    Body = json.dumps(request)\n",
    ")\n",
    "\n",
    "for line in response[\"Body\"]:\n",
    "    print(json.loads(line))"
   ]
  },
  {
   "cell_type": "markdown",
   "metadata": {},
   "source": [
    "### Alternatively, you can specify a request using parameter indices instead of feature names\n",
    "\n",
    "Here is an example of the same input values, but formatted using Domino's alternative input format using parameter indices in a list."
   ]
  },
  {
   "cell_type": "code",
   "execution_count": 7,
   "metadata": {},
   "outputs": [
    {
     "name": "stdout",
     "output_type": "stream",
     "text": [
      "{'model_time_in_ms': 1, 'release': {'harness_version': '0.1', 'model_version': '5ee26adfcdfc18044c3768b2', 'model_version_number': 2}, 'request_id': 'L5K3RYMUOQ1W6AFI', 'result': [2.3214757627915308e-05], 'timing': 0.5803108215332031}\n"
     ]
    }
   ],
   "source": [
    "request_alt = {\n",
    "    \"parameters\": [1, 1, 1, 10000]\n",
    "}\n",
    "\n",
    "response_alt = runtime_client.invoke_endpoint(\n",
    "    EndpointName = \"domino-customer-churn\",\n",
    "    ContentType = \"application/json\",\n",
    "    Body = json.dumps(request_alt)\n",
    ")\n",
    "\n",
    "for line in response_alt[\"Body\"]:\n",
    "    print(json.loads(line))"
   ]
  },
  {
   "cell_type": "code",
   "execution_count": null,
   "metadata": {},
   "outputs": [],
   "source": []
  }
 ],
 "metadata": {
  "kernelspec": {
   "display_name": "Python 3",
   "language": "python",
   "name": "python3"
  },
  "language_info": {
   "codemirror_mode": {
    "name": "ipython",
    "version": 3
   },
   "file_extension": ".py",
   "mimetype": "text/x-python",
   "name": "python",
   "nbconvert_exporter": "python",
   "pygments_lexer": "ipython3",
   "version": "3.6.8"
  }
 },
 "nbformat": 4,
 "nbformat_minor": 2
}
